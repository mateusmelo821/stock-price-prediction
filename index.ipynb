{
 "cells": [
  {
   "cell_type": "markdown",
   "id": "762c68a9",
   "metadata": {},
   "source": [
    "# Tesla Stock Prediction\n",
    "\n",
    "[Tesla, Inc.](https://en.wikipedia.org/wiki/Tesla,_Inc.) is  is an American multinational automotive and clean energy company headquartered in Austin, Texas, which designs and manufactures electric vehicles (cars and trucks), stationary battery energy storage devices from home to grid-scale, solar panels and solar shingles, and related products and services. In this project, we are going through a dataset containing information about the Tesla stock prices. The data was made avaliable by [kaggle](https://www.kaggle.com/datasets/timoboz/tesla-stock-data-from-2010-to-2020) and our main goal is to predict the stock closing price. This report is divided in 5 parts:\n",
    "\n",
    "* Setting up the data\n",
    "* Exploratory data analysis\n",
    "* Model training\n",
    "* Model Evaluation\n",
    "* Conclusion\n",
    "\n",
    "## Setting up the data\n",
    "\n",
    "We start our project by loading the required packages and data. The dataset was previously loaded to a BigQuery table."
   ]
  },
  {
   "cell_type": "code",
   "execution_count": 1,
   "id": "f29adaff",
   "metadata": {},
   "outputs": [
    {
     "data": {
      "text/html": [
       "<div>\n",
       "<style scoped>\n",
       "    .dataframe tbody tr th:only-of-type {\n",
       "        vertical-align: middle;\n",
       "    }\n",
       "\n",
       "    .dataframe tbody tr th {\n",
       "        vertical-align: top;\n",
       "    }\n",
       "\n",
       "    .dataframe thead th {\n",
       "        text-align: right;\n",
       "    }\n",
       "</style>\n",
       "<table border=\"1\" class=\"dataframe\">\n",
       "  <thead>\n",
       "    <tr style=\"text-align: right;\">\n",
       "      <th></th>\n",
       "      <th>Date</th>\n",
       "      <th>Open</th>\n",
       "      <th>High</th>\n",
       "      <th>Low</th>\n",
       "      <th>Close</th>\n",
       "      <th>Adj_Close</th>\n",
       "      <th>Volume</th>\n",
       "    </tr>\n",
       "  </thead>\n",
       "  <tbody>\n",
       "    <tr>\n",
       "      <th>2411</th>\n",
       "      <td>2011-04-27</td>\n",
       "      <td>26.93</td>\n",
       "      <td>27.360001</td>\n",
       "      <td>26.629999</td>\n",
       "      <td>27.080000</td>\n",
       "      <td>27.080000</td>\n",
       "      <td>996900</td>\n",
       "    </tr>\n",
       "    <tr>\n",
       "      <th>2412</th>\n",
       "      <td>2012-01-30</td>\n",
       "      <td>29.49</td>\n",
       "      <td>29.610001</td>\n",
       "      <td>28.530001</td>\n",
       "      <td>29.570000</td>\n",
       "      <td>29.570000</td>\n",
       "      <td>729000</td>\n",
       "    </tr>\n",
       "    <tr>\n",
       "      <th>2413</th>\n",
       "      <td>2011-03-22</td>\n",
       "      <td>22.73</td>\n",
       "      <td>22.860001</td>\n",
       "      <td>22.000000</td>\n",
       "      <td>22.190001</td>\n",
       "      <td>22.190001</td>\n",
       "      <td>582900</td>\n",
       "    </tr>\n",
       "    <tr>\n",
       "      <th>2414</th>\n",
       "      <td>2011-10-25</td>\n",
       "      <td>28.23</td>\n",
       "      <td>28.860001</td>\n",
       "      <td>27.799999</td>\n",
       "      <td>28.250000</td>\n",
       "      <td>28.250000</td>\n",
       "      <td>654400</td>\n",
       "    </tr>\n",
       "    <tr>\n",
       "      <th>2415</th>\n",
       "      <td>2020-01-21</td>\n",
       "      <td>530.25</td>\n",
       "      <td>548.580017</td>\n",
       "      <td>528.409973</td>\n",
       "      <td>547.200012</td>\n",
       "      <td>547.200012</td>\n",
       "      <td>17803500</td>\n",
       "    </tr>\n",
       "  </tbody>\n",
       "</table>\n",
       "</div>"
      ],
      "text/plain": [
       "            Date    Open        High         Low       Close   Adj_Close  \\\n",
       "2411  2011-04-27   26.93   27.360001   26.629999   27.080000   27.080000   \n",
       "2412  2012-01-30   29.49   29.610001   28.530001   29.570000   29.570000   \n",
       "2413  2011-03-22   22.73   22.860001   22.000000   22.190001   22.190001   \n",
       "2414  2011-10-25   28.23   28.860001   27.799999   28.250000   28.250000   \n",
       "2415  2020-01-21  530.25  548.580017  528.409973  547.200012  547.200012   \n",
       "\n",
       "        Volume  \n",
       "2411    996900  \n",
       "2412    729000  \n",
       "2413    582900  \n",
       "2414    654400  \n",
       "2415  17803500  "
      ]
     },
     "execution_count": 1,
     "metadata": {},
     "output_type": "execute_result"
    }
   ],
   "source": [
    "from google.cloud import bigquery\n",
    "from google.oauth2 import service_account\n",
    "import db_dtypes\n",
    "import pandas as pd\n",
    "import numpy as np\n",
    "import matplotlib.pyplot as plt\n",
    "import seaborn as sns\n",
    "from scipy import stats\n",
    "from sklearn.model_selection import train_test_split, KFold\n",
    "from sklearn import linear_model\n",
    "from sklearn.metrics import mean_absolute_error, r2_score, mean_squared_error\n",
    "from joblib import dump, load\n",
    "\n",
    "credentials = service_account.Credentials.from_service_account_file(\n",
    "'credentials.json')\n",
    "\n",
    "project_id = 'platinum-factor-405117'\n",
    "client = bigquery.Client(credentials=credentials,project=project_id)\n",
    "\n",
    "query = \"\"\"\n",
    "   SELECT *\n",
    "   FROM datascience.tesla_stock\n",
    "   \"\"\"\n",
    "df = pd.read_gbq(query, project_id=project_id, credentials=credentials)\n",
    "df.tail()"
   ]
  },
  {
   "cell_type": "markdown",
   "id": "08412dd1",
   "metadata": {},
   "source": [
    "We have 2416 rows and 7 columns. According to the data description, each variable is related to the stock in a given moment.\n",
    "\n",
    "1. Date: Date of the event\n",
    "2. Open: Opening stock price on the date\n",
    "3. High: Highest stock price on the date\n",
    "4. Low: Lowest price on the date\n",
    "5. Cloce: Closing stock price on the date\n",
    "6. Adj_Cloce: Adjusted clocing stock price on the date\n",
    "7. Volume: Trading volume on the date\n",
    "\n",
    "Let us get some general information from the data and check if there any null values."
   ]
  },
  {
   "cell_type": "code",
   "execution_count": 2,
   "id": "21671f86",
   "metadata": {},
   "outputs": [
    {
     "data": {
      "text/html": [
       "<div>\n",
       "<style scoped>\n",
       "    .dataframe tbody tr th:only-of-type {\n",
       "        vertical-align: middle;\n",
       "    }\n",
       "\n",
       "    .dataframe tbody tr th {\n",
       "        vertical-align: top;\n",
       "    }\n",
       "\n",
       "    .dataframe thead th {\n",
       "        text-align: right;\n",
       "    }\n",
       "</style>\n",
       "<table border=\"1\" class=\"dataframe\">\n",
       "  <thead>\n",
       "    <tr style=\"text-align: right;\">\n",
       "      <th></th>\n",
       "      <th>Open</th>\n",
       "      <th>High</th>\n",
       "      <th>Low</th>\n",
       "      <th>Close</th>\n",
       "      <th>Adj_Close</th>\n",
       "      <th>Volume</th>\n",
       "    </tr>\n",
       "  </thead>\n",
       "  <tbody>\n",
       "    <tr>\n",
       "      <th>count</th>\n",
       "      <td>2416.000000</td>\n",
       "      <td>2416.000000</td>\n",
       "      <td>2416.000000</td>\n",
       "      <td>2416.000000</td>\n",
       "      <td>2416.000000</td>\n",
       "      <td>2416.0</td>\n",
       "    </tr>\n",
       "    <tr>\n",
       "      <th>mean</th>\n",
       "      <td>186.271147</td>\n",
       "      <td>189.578224</td>\n",
       "      <td>182.916639</td>\n",
       "      <td>186.403651</td>\n",
       "      <td>186.403651</td>\n",
       "      <td>5572721.688742</td>\n",
       "    </tr>\n",
       "    <tr>\n",
       "      <th>std</th>\n",
       "      <td>118.740163</td>\n",
       "      <td>120.892329</td>\n",
       "      <td>116.857591</td>\n",
       "      <td>119.136020</td>\n",
       "      <td>119.136020</td>\n",
       "      <td>4987809.151888</td>\n",
       "    </tr>\n",
       "    <tr>\n",
       "      <th>min</th>\n",
       "      <td>16.139999</td>\n",
       "      <td>16.629999</td>\n",
       "      <td>14.980000</td>\n",
       "      <td>15.800000</td>\n",
       "      <td>15.800000</td>\n",
       "      <td>118500.0</td>\n",
       "    </tr>\n",
       "    <tr>\n",
       "      <th>25%</th>\n",
       "      <td>34.342498</td>\n",
       "      <td>34.897501</td>\n",
       "      <td>33.587501</td>\n",
       "      <td>34.400002</td>\n",
       "      <td>34.400002</td>\n",
       "      <td>1899275.0</td>\n",
       "    </tr>\n",
       "    <tr>\n",
       "      <th>50%</th>\n",
       "      <td>213.035004</td>\n",
       "      <td>216.745002</td>\n",
       "      <td>208.870002</td>\n",
       "      <td>212.960007</td>\n",
       "      <td>212.960007</td>\n",
       "      <td>4578400.0</td>\n",
       "    </tr>\n",
       "    <tr>\n",
       "      <th>75%</th>\n",
       "      <td>266.450012</td>\n",
       "      <td>270.927513</td>\n",
       "      <td>262.102501</td>\n",
       "      <td>266.774994</td>\n",
       "      <td>266.774994</td>\n",
       "      <td>7361150.0</td>\n",
       "    </tr>\n",
       "    <tr>\n",
       "      <th>max</th>\n",
       "      <td>673.690002</td>\n",
       "      <td>786.140015</td>\n",
       "      <td>673.520020</td>\n",
       "      <td>780.000000</td>\n",
       "      <td>780.000000</td>\n",
       "      <td>47065000.0</td>\n",
       "    </tr>\n",
       "  </tbody>\n",
       "</table>\n",
       "</div>"
      ],
      "text/plain": [
       "              Open         High          Low        Close    Adj_Close  \\\n",
       "count  2416.000000  2416.000000  2416.000000  2416.000000  2416.000000   \n",
       "mean    186.271147   189.578224   182.916639   186.403651   186.403651   \n",
       "std     118.740163   120.892329   116.857591   119.136020   119.136020   \n",
       "min      16.139999    16.629999    14.980000    15.800000    15.800000   \n",
       "25%      34.342498    34.897501    33.587501    34.400002    34.400002   \n",
       "50%     213.035004   216.745002   208.870002   212.960007   212.960007   \n",
       "75%     266.450012   270.927513   262.102501   266.774994   266.774994   \n",
       "max     673.690002   786.140015   673.520020   780.000000   780.000000   \n",
       "\n",
       "               Volume  \n",
       "count          2416.0  \n",
       "mean   5572721.688742  \n",
       "std    4987809.151888  \n",
       "min          118500.0  \n",
       "25%         1899275.0  \n",
       "50%         4578400.0  \n",
       "75%         7361150.0  \n",
       "max        47065000.0  "
      ]
     },
     "execution_count": 2,
     "metadata": {},
     "output_type": "execute_result"
    }
   ],
   "source": [
    "df.describe()"
   ]
  },
  {
   "cell_type": "code",
   "execution_count": 3,
   "id": "3178d4af",
   "metadata": {},
   "outputs": [
    {
     "name": "stdout",
     "output_type": "stream",
     "text": [
      "<class 'pandas.core.frame.DataFrame'>\n",
      "RangeIndex: 2416 entries, 0 to 2415\n",
      "Data columns (total 7 columns):\n",
      " #   Column     Non-Null Count  Dtype  \n",
      "---  ------     --------------  -----  \n",
      " 0   Date       2416 non-null   dbdate \n",
      " 1   Open       2416 non-null   float64\n",
      " 2   High       2416 non-null   float64\n",
      " 3   Low        2416 non-null   float64\n",
      " 4   Close      2416 non-null   float64\n",
      " 5   Adj_Close  2416 non-null   float64\n",
      " 6   Volume     2416 non-null   Int64  \n",
      "dtypes: Int64(1), dbdate(1), float64(5)\n",
      "memory usage: 134.6 KB\n"
     ]
    }
   ],
   "source": [
    "df.info()"
   ]
  },
  {
   "cell_type": "markdown",
   "id": "71129583",
   "metadata": {},
   "source": [
    "There are no null values. The Date columns is with a dbdate type and the Volume is a Int64 columns. The others are float64 columns. The Close and Adj_Close columns have the same descriptive statistics. Therefore, it is very likely that they are redundant. Let us check that and if it is the case, drop the Adj_Close column. "
   ]
  },
  {
   "cell_type": "code",
   "execution_count": 4,
   "id": "968f344a",
   "metadata": {},
   "outputs": [
    {
     "data": {
      "text/plain": [
       "0"
      ]
     },
     "execution_count": 4,
     "metadata": {},
     "output_type": "execute_result"
    }
   ],
   "source": [
    "sum(df['Close']!=df['Adj_Close'])"
   ]
  },
  {
   "cell_type": "code",
   "execution_count": 5,
   "id": "9a5bd53a",
   "metadata": {},
   "outputs": [
    {
     "data": {
      "text/html": [
       "<div>\n",
       "<style scoped>\n",
       "    .dataframe tbody tr th:only-of-type {\n",
       "        vertical-align: middle;\n",
       "    }\n",
       "\n",
       "    .dataframe tbody tr th {\n",
       "        vertical-align: top;\n",
       "    }\n",
       "\n",
       "    .dataframe thead th {\n",
       "        text-align: right;\n",
       "    }\n",
       "</style>\n",
       "<table border=\"1\" class=\"dataframe\">\n",
       "  <thead>\n",
       "    <tr style=\"text-align: right;\">\n",
       "      <th></th>\n",
       "      <th>Date</th>\n",
       "      <th>Open</th>\n",
       "      <th>High</th>\n",
       "      <th>Low</th>\n",
       "      <th>Close</th>\n",
       "      <th>Volume</th>\n",
       "    </tr>\n",
       "  </thead>\n",
       "  <tbody>\n",
       "    <tr>\n",
       "      <th>2411</th>\n",
       "      <td>2011-04-27</td>\n",
       "      <td>26.93</td>\n",
       "      <td>27.360001</td>\n",
       "      <td>26.629999</td>\n",
       "      <td>27.080000</td>\n",
       "      <td>996900</td>\n",
       "    </tr>\n",
       "    <tr>\n",
       "      <th>2412</th>\n",
       "      <td>2012-01-30</td>\n",
       "      <td>29.49</td>\n",
       "      <td>29.610001</td>\n",
       "      <td>28.530001</td>\n",
       "      <td>29.570000</td>\n",
       "      <td>729000</td>\n",
       "    </tr>\n",
       "    <tr>\n",
       "      <th>2413</th>\n",
       "      <td>2011-03-22</td>\n",
       "      <td>22.73</td>\n",
       "      <td>22.860001</td>\n",
       "      <td>22.000000</td>\n",
       "      <td>22.190001</td>\n",
       "      <td>582900</td>\n",
       "    </tr>\n",
       "    <tr>\n",
       "      <th>2414</th>\n",
       "      <td>2011-10-25</td>\n",
       "      <td>28.23</td>\n",
       "      <td>28.860001</td>\n",
       "      <td>27.799999</td>\n",
       "      <td>28.250000</td>\n",
       "      <td>654400</td>\n",
       "    </tr>\n",
       "    <tr>\n",
       "      <th>2415</th>\n",
       "      <td>2020-01-21</td>\n",
       "      <td>530.25</td>\n",
       "      <td>548.580017</td>\n",
       "      <td>528.409973</td>\n",
       "      <td>547.200012</td>\n",
       "      <td>17803500</td>\n",
       "    </tr>\n",
       "  </tbody>\n",
       "</table>\n",
       "</div>"
      ],
      "text/plain": [
       "            Date    Open        High         Low       Close    Volume\n",
       "2411  2011-04-27   26.93   27.360001   26.629999   27.080000    996900\n",
       "2412  2012-01-30   29.49   29.610001   28.530001   29.570000    729000\n",
       "2413  2011-03-22   22.73   22.860001   22.000000   22.190001    582900\n",
       "2414  2011-10-25   28.23   28.860001   27.799999   28.250000    654400\n",
       "2415  2020-01-21  530.25  548.580017  528.409973  547.200012  17803500"
      ]
     },
     "execution_count": 5,
     "metadata": {},
     "output_type": "execute_result"
    }
   ],
   "source": [
    "df = df.drop('Adj_Close', axis=1)\n",
    "df.tail()"
   ]
  },
  {
   "cell_type": "markdown",
   "id": "13975559",
   "metadata": {},
   "source": [
    "Since we want to predict the closing value based on the date and opening prices, we are only keeping the Date, Open and Close columns. We are also changing the Date column type and extracting some new date columns to help in the data exploratory analysis and in the model training."
   ]
  },
  {
   "cell_type": "code",
   "execution_count": 6,
   "id": "56bb9dfd",
   "metadata": {},
   "outputs": [
    {
     "data": {
      "text/html": [
       "<div>\n",
       "<style scoped>\n",
       "    .dataframe tbody tr th:only-of-type {\n",
       "        vertical-align: middle;\n",
       "    }\n",
       "\n",
       "    .dataframe tbody tr th {\n",
       "        vertical-align: top;\n",
       "    }\n",
       "\n",
       "    .dataframe thead th {\n",
       "        text-align: right;\n",
       "    }\n",
       "</style>\n",
       "<table border=\"1\" class=\"dataframe\">\n",
       "  <thead>\n",
       "    <tr style=\"text-align: right;\">\n",
       "      <th></th>\n",
       "      <th>Date</th>\n",
       "      <th>Open</th>\n",
       "      <th>Close</th>\n",
       "      <th>Year</th>\n",
       "      <th>Month</th>\n",
       "      <th>Day</th>\n",
       "      <th>Weekday</th>\n",
       "    </tr>\n",
       "  </thead>\n",
       "  <tbody>\n",
       "    <tr>\n",
       "      <th>2411</th>\n",
       "      <td>2011-04-27</td>\n",
       "      <td>26.93</td>\n",
       "      <td>27.080000</td>\n",
       "      <td>2011</td>\n",
       "      <td>4</td>\n",
       "      <td>27</td>\n",
       "      <td>2</td>\n",
       "    </tr>\n",
       "    <tr>\n",
       "      <th>2412</th>\n",
       "      <td>2012-01-30</td>\n",
       "      <td>29.49</td>\n",
       "      <td>29.570000</td>\n",
       "      <td>2012</td>\n",
       "      <td>1</td>\n",
       "      <td>30</td>\n",
       "      <td>0</td>\n",
       "    </tr>\n",
       "    <tr>\n",
       "      <th>2413</th>\n",
       "      <td>2011-03-22</td>\n",
       "      <td>22.73</td>\n",
       "      <td>22.190001</td>\n",
       "      <td>2011</td>\n",
       "      <td>3</td>\n",
       "      <td>22</td>\n",
       "      <td>1</td>\n",
       "    </tr>\n",
       "    <tr>\n",
       "      <th>2414</th>\n",
       "      <td>2011-10-25</td>\n",
       "      <td>28.23</td>\n",
       "      <td>28.250000</td>\n",
       "      <td>2011</td>\n",
       "      <td>10</td>\n",
       "      <td>25</td>\n",
       "      <td>1</td>\n",
       "    </tr>\n",
       "    <tr>\n",
       "      <th>2415</th>\n",
       "      <td>2020-01-21</td>\n",
       "      <td>530.25</td>\n",
       "      <td>547.200012</td>\n",
       "      <td>2020</td>\n",
       "      <td>1</td>\n",
       "      <td>21</td>\n",
       "      <td>1</td>\n",
       "    </tr>\n",
       "  </tbody>\n",
       "</table>\n",
       "</div>"
      ],
      "text/plain": [
       "           Date    Open       Close  Year  Month  Day  Weekday\n",
       "2411 2011-04-27   26.93   27.080000  2011      4   27        2\n",
       "2412 2012-01-30   29.49   29.570000  2012      1   30        0\n",
       "2413 2011-03-22   22.73   22.190001  2011      3   22        1\n",
       "2414 2011-10-25   28.23   28.250000  2011     10   25        1\n",
       "2415 2020-01-21  530.25  547.200012  2020      1   21        1"
      ]
     },
     "execution_count": 6,
     "metadata": {},
     "output_type": "execute_result"
    }
   ],
   "source": [
    "df = df[['Date', 'Open', 'Close']]\n",
    "df['Date'] = pd.to_datetime(df['Date'])\n",
    "df['Year'] = df['Date'].dt.year\n",
    "df['Month'] = df['Date'].dt.month\n",
    "df['Day'] = df['Date'].dt.day\n",
    "df['Weekday'] = df['Date'].dt.dayofweek\n",
    "df.tail()"
   ]
  },
  {
   "cell_type": "markdown",
   "id": "bce5b12c",
   "metadata": {},
   "source": [
    "Now let us split our dataset into two subsets. One will be used for training and the other one for testing. We will stratify our data by the year, in order to correctly catch any trends caused by inflation, economic growth, etc. We will use 20% of the observations for test."
   ]
  },
  {
   "cell_type": "code",
   "execution_count": 7,
   "id": "b9743803",
   "metadata": {},
   "outputs": [
    {
     "data": {
      "text/html": [
       "<div>\n",
       "<style scoped>\n",
       "    .dataframe tbody tr th:only-of-type {\n",
       "        vertical-align: middle;\n",
       "    }\n",
       "\n",
       "    .dataframe tbody tr th {\n",
       "        vertical-align: top;\n",
       "    }\n",
       "\n",
       "    .dataframe thead th {\n",
       "        text-align: right;\n",
       "    }\n",
       "</style>\n",
       "<table border=\"1\" class=\"dataframe\">\n",
       "  <thead>\n",
       "    <tr style=\"text-align: right;\">\n",
       "      <th></th>\n",
       "      <th>Date</th>\n",
       "      <th>Open</th>\n",
       "      <th>Close</th>\n",
       "      <th>Year</th>\n",
       "      <th>Month</th>\n",
       "      <th>Day</th>\n",
       "      <th>Weekday</th>\n",
       "      <th>Data</th>\n",
       "    </tr>\n",
       "  </thead>\n",
       "  <tbody>\n",
       "    <tr>\n",
       "      <th>2024</th>\n",
       "      <td>2018-11-14</td>\n",
       "      <td>342.700012</td>\n",
       "      <td>344.000000</td>\n",
       "      <td>2018</td>\n",
       "      <td>11</td>\n",
       "      <td>14</td>\n",
       "      <td>2</td>\n",
       "      <td>train</td>\n",
       "    </tr>\n",
       "    <tr>\n",
       "      <th>614</th>\n",
       "      <td>2015-02-06</td>\n",
       "      <td>222.000000</td>\n",
       "      <td>217.360001</td>\n",
       "      <td>2015</td>\n",
       "      <td>2</td>\n",
       "      <td>6</td>\n",
       "      <td>4</td>\n",
       "      <td>train</td>\n",
       "    </tr>\n",
       "    <tr>\n",
       "      <th>2368</th>\n",
       "      <td>2011-01-24</td>\n",
       "      <td>23.530001</td>\n",
       "      <td>24.490000</td>\n",
       "      <td>2011</td>\n",
       "      <td>1</td>\n",
       "      <td>24</td>\n",
       "      <td>0</td>\n",
       "      <td>train</td>\n",
       "    </tr>\n",
       "    <tr>\n",
       "      <th>178</th>\n",
       "      <td>2017-05-10</td>\n",
       "      <td>321.559998</td>\n",
       "      <td>325.220001</td>\n",
       "      <td>2017</td>\n",
       "      <td>5</td>\n",
       "      <td>10</td>\n",
       "      <td>2</td>\n",
       "      <td>train</td>\n",
       "    </tr>\n",
       "    <tr>\n",
       "      <th>446</th>\n",
       "      <td>2019-06-18</td>\n",
       "      <td>228.720001</td>\n",
       "      <td>224.740005</td>\n",
       "      <td>2019</td>\n",
       "      <td>6</td>\n",
       "      <td>18</td>\n",
       "      <td>1</td>\n",
       "      <td>train</td>\n",
       "    </tr>\n",
       "  </tbody>\n",
       "</table>\n",
       "</div>"
      ],
      "text/plain": [
       "           Date        Open       Close  Year  Month  Day  Weekday   Data\n",
       "2024 2018-11-14  342.700012  344.000000  2018     11   14        2  train\n",
       "614  2015-02-06  222.000000  217.360001  2015      2    6        4  train\n",
       "2368 2011-01-24   23.530001   24.490000  2011      1   24        0  train\n",
       "178  2017-05-10  321.559998  325.220001  2017      5   10        2  train\n",
       "446  2019-06-18  228.720001  224.740005  2019      6   18        1  train"
      ]
     },
     "execution_count": 7,
     "metadata": {},
     "output_type": "execute_result"
    }
   ],
   "source": [
    "df_train, df_test = train_test_split(df, test_size=0.2, stratify=df['Year'], random_state=1234)\n",
    "\n",
    "df_train['Data'] = 'train'\n",
    "df_train.tail()"
   ]
  },
  {
   "cell_type": "code",
   "execution_count": 8,
   "id": "ff902fcf",
   "metadata": {},
   "outputs": [
    {
     "data": {
      "text/html": [
       "<div>\n",
       "<style scoped>\n",
       "    .dataframe tbody tr th:only-of-type {\n",
       "        vertical-align: middle;\n",
       "    }\n",
       "\n",
       "    .dataframe tbody tr th {\n",
       "        vertical-align: top;\n",
       "    }\n",
       "\n",
       "    .dataframe thead th {\n",
       "        text-align: right;\n",
       "    }\n",
       "</style>\n",
       "<table border=\"1\" class=\"dataframe\">\n",
       "  <thead>\n",
       "    <tr style=\"text-align: right;\">\n",
       "      <th></th>\n",
       "      <th>Date</th>\n",
       "      <th>Open</th>\n",
       "      <th>Close</th>\n",
       "      <th>Year</th>\n",
       "      <th>Month</th>\n",
       "      <th>Day</th>\n",
       "      <th>Weekday</th>\n",
       "      <th>Data</th>\n",
       "    </tr>\n",
       "  </thead>\n",
       "  <tbody>\n",
       "    <tr>\n",
       "      <th>1792</th>\n",
       "      <td>2017-03-22</td>\n",
       "      <td>251.559998</td>\n",
       "      <td>255.009995</td>\n",
       "      <td>2017</td>\n",
       "      <td>3</td>\n",
       "      <td>22</td>\n",
       "      <td>2</td>\n",
       "      <td>test</td>\n",
       "    </tr>\n",
       "    <tr>\n",
       "      <th>2145</th>\n",
       "      <td>2018-02-28</td>\n",
       "      <td>352.570007</td>\n",
       "      <td>343.059998</td>\n",
       "      <td>2018</td>\n",
       "      <td>2</td>\n",
       "      <td>28</td>\n",
       "      <td>2</td>\n",
       "      <td>test</td>\n",
       "    </tr>\n",
       "    <tr>\n",
       "      <th>1159</th>\n",
       "      <td>2018-10-02</td>\n",
       "      <td>313.950012</td>\n",
       "      <td>301.019989</td>\n",
       "      <td>2018</td>\n",
       "      <td>10</td>\n",
       "      <td>2</td>\n",
       "      <td>1</td>\n",
       "      <td>test</td>\n",
       "    </tr>\n",
       "    <tr>\n",
       "      <th>147</th>\n",
       "      <td>2011-11-11</td>\n",
       "      <td>31.900000</td>\n",
       "      <td>33.639999</td>\n",
       "      <td>2011</td>\n",
       "      <td>11</td>\n",
       "      <td>11</td>\n",
       "      <td>4</td>\n",
       "      <td>test</td>\n",
       "    </tr>\n",
       "    <tr>\n",
       "      <th>316</th>\n",
       "      <td>2014-02-18</td>\n",
       "      <td>205.240005</td>\n",
       "      <td>203.699997</td>\n",
       "      <td>2014</td>\n",
       "      <td>2</td>\n",
       "      <td>18</td>\n",
       "      <td>1</td>\n",
       "      <td>test</td>\n",
       "    </tr>\n",
       "  </tbody>\n",
       "</table>\n",
       "</div>"
      ],
      "text/plain": [
       "           Date        Open       Close  Year  Month  Day  Weekday  Data\n",
       "1792 2017-03-22  251.559998  255.009995  2017      3   22        2  test\n",
       "2145 2018-02-28  352.570007  343.059998  2018      2   28        2  test\n",
       "1159 2018-10-02  313.950012  301.019989  2018     10    2        1  test\n",
       "147  2011-11-11   31.900000   33.639999  2011     11   11        4  test\n",
       "316  2014-02-18  205.240005  203.699997  2014      2   18        1  test"
      ]
     },
     "execution_count": 8,
     "metadata": {},
     "output_type": "execute_result"
    }
   ],
   "source": [
    "df_test['Data'] = 'test'\n",
    "df_test.tail()"
   ]
  },
  {
   "cell_type": "markdown",
   "id": "0825c6fc",
   "metadata": {},
   "source": [
    "Now let us save our tidy data in a BigQuery table and finish this part of the project."
   ]
  },
  {
   "cell_type": "code",
   "execution_count": 9,
   "id": "d24eadc6",
   "metadata": {},
   "outputs": [
    {
     "data": {
      "text/html": [
       "<div>\n",
       "<style scoped>\n",
       "    .dataframe tbody tr th:only-of-type {\n",
       "        vertical-align: middle;\n",
       "    }\n",
       "\n",
       "    .dataframe tbody tr th {\n",
       "        vertical-align: top;\n",
       "    }\n",
       "\n",
       "    .dataframe thead th {\n",
       "        text-align: right;\n",
       "    }\n",
       "</style>\n",
       "<table border=\"1\" class=\"dataframe\">\n",
       "  <thead>\n",
       "    <tr style=\"text-align: right;\">\n",
       "      <th></th>\n",
       "      <th>Date</th>\n",
       "      <th>Open</th>\n",
       "      <th>Close</th>\n",
       "      <th>Year</th>\n",
       "      <th>Month</th>\n",
       "      <th>Day</th>\n",
       "      <th>Weekday</th>\n",
       "      <th>Data</th>\n",
       "    </tr>\n",
       "  </thead>\n",
       "  <tbody>\n",
       "    <tr>\n",
       "      <th>2411</th>\n",
       "      <td>2017-03-22</td>\n",
       "      <td>251.559998</td>\n",
       "      <td>255.009995</td>\n",
       "      <td>2017</td>\n",
       "      <td>3</td>\n",
       "      <td>22</td>\n",
       "      <td>2</td>\n",
       "      <td>test</td>\n",
       "    </tr>\n",
       "    <tr>\n",
       "      <th>2412</th>\n",
       "      <td>2018-02-28</td>\n",
       "      <td>352.570007</td>\n",
       "      <td>343.059998</td>\n",
       "      <td>2018</td>\n",
       "      <td>2</td>\n",
       "      <td>28</td>\n",
       "      <td>2</td>\n",
       "      <td>test</td>\n",
       "    </tr>\n",
       "    <tr>\n",
       "      <th>2413</th>\n",
       "      <td>2018-10-02</td>\n",
       "      <td>313.950012</td>\n",
       "      <td>301.019989</td>\n",
       "      <td>2018</td>\n",
       "      <td>10</td>\n",
       "      <td>2</td>\n",
       "      <td>1</td>\n",
       "      <td>test</td>\n",
       "    </tr>\n",
       "    <tr>\n",
       "      <th>2414</th>\n",
       "      <td>2011-11-11</td>\n",
       "      <td>31.900000</td>\n",
       "      <td>33.639999</td>\n",
       "      <td>2011</td>\n",
       "      <td>11</td>\n",
       "      <td>11</td>\n",
       "      <td>4</td>\n",
       "      <td>test</td>\n",
       "    </tr>\n",
       "    <tr>\n",
       "      <th>2415</th>\n",
       "      <td>2014-02-18</td>\n",
       "      <td>205.240005</td>\n",
       "      <td>203.699997</td>\n",
       "      <td>2014</td>\n",
       "      <td>2</td>\n",
       "      <td>18</td>\n",
       "      <td>1</td>\n",
       "      <td>test</td>\n",
       "    </tr>\n",
       "  </tbody>\n",
       "</table>\n",
       "</div>"
      ],
      "text/plain": [
       "           Date        Open       Close  Year  Month  Day  Weekday  Data\n",
       "2411 2017-03-22  251.559998  255.009995  2017      3   22        2  test\n",
       "2412 2018-02-28  352.570007  343.059998  2018      2   28        2  test\n",
       "2413 2018-10-02  313.950012  301.019989  2018     10    2        1  test\n",
       "2414 2011-11-11   31.900000   33.639999  2011     11   11        4  test\n",
       "2415 2014-02-18  205.240005  203.699997  2014      2   18        1  test"
      ]
     },
     "execution_count": 9,
     "metadata": {},
     "output_type": "execute_result"
    }
   ],
   "source": [
    "df = pd.concat([df_train, df_test], ignore_index=True)\n",
    "df.tail()"
   ]
  },
  {
   "cell_type": "code",
   "execution_count": 10,
   "id": "b273164d",
   "metadata": {},
   "outputs": [
    {
     "name": "stderr",
     "output_type": "stream",
     "text": [
      "100%|████████████████████████████████████████████████████████████████████████████████████████████| 1/1 [00:00<?, ?it/s]\n"
     ]
    }
   ],
   "source": [
    "df.to_gbq('datascience.tesla_stock_tidy', project_id=project_id, credentials=credentials, if_exists='replace')"
   ]
  },
  {
   "cell_type": "markdown",
   "id": "6f68216d",
   "metadata": {},
   "source": [
    "## Exploratory data analysis\n",
    "\n",
    "Let us start this part by loading the training data and plotting the closing stock price by the date. We are  also changing the Year, Month, Day, and Weekday columns to a categorical format. "
   ]
  },
  {
   "cell_type": "code",
   "execution_count": 11,
   "id": "44d33556",
   "metadata": {},
   "outputs": [
    {
     "data": {
      "text/html": [
       "<div>\n",
       "<style scoped>\n",
       "    .dataframe tbody tr th:only-of-type {\n",
       "        vertical-align: middle;\n",
       "    }\n",
       "\n",
       "    .dataframe tbody tr th {\n",
       "        vertical-align: top;\n",
       "    }\n",
       "\n",
       "    .dataframe thead th {\n",
       "        text-align: right;\n",
       "    }\n",
       "</style>\n",
       "<table border=\"1\" class=\"dataframe\">\n",
       "  <thead>\n",
       "    <tr style=\"text-align: right;\">\n",
       "      <th></th>\n",
       "      <th>Date</th>\n",
       "      <th>Open</th>\n",
       "      <th>Close</th>\n",
       "      <th>Year</th>\n",
       "      <th>Month</th>\n",
       "      <th>Day</th>\n",
       "      <th>Weekday</th>\n",
       "    </tr>\n",
       "  </thead>\n",
       "  <tbody>\n",
       "    <tr>\n",
       "      <th>1927</th>\n",
       "      <td>2014-10-31 00:00:00+00:00</td>\n",
       "      <td>242.509995</td>\n",
       "      <td>241.699997</td>\n",
       "      <td>2014</td>\n",
       "      <td>10</td>\n",
       "      <td>31</td>\n",
       "      <td>4</td>\n",
       "    </tr>\n",
       "    <tr>\n",
       "      <th>1928</th>\n",
       "      <td>2020-01-31 00:00:00+00:00</td>\n",
       "      <td>640.000000</td>\n",
       "      <td>650.570007</td>\n",
       "      <td>2020</td>\n",
       "      <td>1</td>\n",
       "      <td>31</td>\n",
       "      <td>4</td>\n",
       "    </tr>\n",
       "    <tr>\n",
       "      <th>1929</th>\n",
       "      <td>2010-12-31 00:00:00+00:00</td>\n",
       "      <td>26.570000</td>\n",
       "      <td>26.629999</td>\n",
       "      <td>2010</td>\n",
       "      <td>12</td>\n",
       "      <td>31</td>\n",
       "      <td>4</td>\n",
       "    </tr>\n",
       "    <tr>\n",
       "      <th>1930</th>\n",
       "      <td>2015-07-31 00:00:00+00:00</td>\n",
       "      <td>267.600006</td>\n",
       "      <td>266.149994</td>\n",
       "      <td>2015</td>\n",
       "      <td>7</td>\n",
       "      <td>31</td>\n",
       "      <td>4</td>\n",
       "    </tr>\n",
       "    <tr>\n",
       "      <th>1931</th>\n",
       "      <td>2017-03-31 00:00:00+00:00</td>\n",
       "      <td>278.730011</td>\n",
       "      <td>278.299988</td>\n",
       "      <td>2017</td>\n",
       "      <td>3</td>\n",
       "      <td>31</td>\n",
       "      <td>4</td>\n",
       "    </tr>\n",
       "  </tbody>\n",
       "</table>\n",
       "</div>"
      ],
      "text/plain": [
       "                          Date        Open       Close  Year Month Day Weekday\n",
       "1927 2014-10-31 00:00:00+00:00  242.509995  241.699997  2014    10  31       4\n",
       "1928 2020-01-31 00:00:00+00:00  640.000000  650.570007  2020     1  31       4\n",
       "1929 2010-12-31 00:00:00+00:00   26.570000   26.629999  2010    12  31       4\n",
       "1930 2015-07-31 00:00:00+00:00  267.600006  266.149994  2015     7  31       4\n",
       "1931 2017-03-31 00:00:00+00:00  278.730011  278.299988  2017     3  31       4"
      ]
     },
     "execution_count": 11,
     "metadata": {},
     "output_type": "execute_result"
    }
   ],
   "source": [
    "query = \"\"\"select * from datascience.tesla_stock_tidy\n",
    "            where Data='train'\"\"\"\n",
    "\n",
    "df = pd.read_gbq(query, project_id=project_id, credentials=credentials)\n",
    "df = df.drop('Data', axis=1)\n",
    "df['Year'] = df['Year'].astype('category')\n",
    "df['Month'] = df['Month'].astype('category')\n",
    "df['Day'] = df['Day'].astype('category')\n",
    "df['Weekday'] = df['Weekday'].astype('category')\n",
    "df.tail()"
   ]
  },
  {
   "cell_type": "code",
   "execution_count": 12,
   "id": "849a1bc9",
   "metadata": {},
   "outputs": [
    {
     "data": {
      "image/png": "[encoded data removed]",
      "text/plain": [
       "<Figure size 900x450 with 1 Axes>"
      ]
     },
     "metadata": {},
     "output_type": "display_data"
    }
   ],
   "source": [
    "fig, ax = plt.subplots(figsize=(6,3), dpi=150)\n",
    "sns.lineplot(data=df, x='Date', y='Close', ax=ax)\n",
    "ax.set_title(\"Closing Stock Price by Day\")\n",
    "ax.set_xlabel('Day')\n",
    "ax.set_ylabel(\"Closing Price\")\n",
    "plt.show()"
   ]
  },
  {
   "cell_type": "markdown",
   "id": "a7664233",
   "metadata": {},
   "source": [
    "The prices increased greatly from 2019 to 2020. Now let us see how the closing price varies with the opening price. "
   ]
  },
  {
   "cell_type": "code",
   "execution_count": 13,
   "id": "bbf4c19e",
   "metadata": {},
   "outputs": [
    {
     "data": {
      "image/png": "[encoded data removed]",
      "text/plain": [
       "<Figure size 900x450 with 1 Axes>"
      ]
     },
     "metadata": {},
     "output_type": "display_data"
    }
   ],
   "source": [
    "fig, ax = plt.subplots(figsize=(6,3), dpi=150)\n",
    "sns.scatterplot(data=df, x='Open', y='Close', hue='Year', ax=ax)\n",
    "ax.set_title('Closing Stock Price by Opening Price')\n",
    "ax.set_xlabel('Opening Price')\n",
    "ax.set_ylabel(\"Closing Price\")\n",
    "ax.legend(loc='upper left', fontsize='x-small')\n",
    "plt.show()"
   ]
  },
  {
   "cell_type": "markdown",
   "id": "6518bbc6",
   "metadata": {},
   "source": [
    "As expected, the opening and closing prices are very related. The year is also very related to the opening price. Therefore, we will discard the Year variable and keep the Open, since it is the more meaningful one."
   ]
  },
  {
   "cell_type": "code",
   "execution_count": 14,
   "id": "1fc859c9",
   "metadata": {},
   "outputs": [
    {
     "data": {
      "text/html": [
       "<div>\n",
       "<style scoped>\n",
       "    .dataframe tbody tr th:only-of-type {\n",
       "        vertical-align: middle;\n",
       "    }\n",
       "\n",
       "    .dataframe tbody tr th {\n",
       "        vertical-align: top;\n",
       "    }\n",
       "\n",
       "    .dataframe thead th {\n",
       "        text-align: right;\n",
       "    }\n",
       "</style>\n",
       "<table border=\"1\" class=\"dataframe\">\n",
       "  <thead>\n",
       "    <tr style=\"text-align: right;\">\n",
       "      <th></th>\n",
       "      <th>Date</th>\n",
       "      <th>Open</th>\n",
       "      <th>Close</th>\n",
       "      <th>Month</th>\n",
       "      <th>Day</th>\n",
       "      <th>Weekday</th>\n",
       "    </tr>\n",
       "  </thead>\n",
       "  <tbody>\n",
       "    <tr>\n",
       "      <th>1927</th>\n",
       "      <td>2014-10-31 00:00:00+00:00</td>\n",
       "      <td>242.509995</td>\n",
       "      <td>241.699997</td>\n",
       "      <td>10</td>\n",
       "      <td>31</td>\n",
       "      <td>4</td>\n",
       "    </tr>\n",
       "    <tr>\n",
       "      <th>1928</th>\n",
       "      <td>2020-01-31 00:00:00+00:00</td>\n",
       "      <td>640.000000</td>\n",
       "      <td>650.570007</td>\n",
       "      <td>1</td>\n",
       "      <td>31</td>\n",
       "      <td>4</td>\n",
       "    </tr>\n",
       "    <tr>\n",
       "      <th>1929</th>\n",
       "      <td>2010-12-31 00:00:00+00:00</td>\n",
       "      <td>26.570000</td>\n",
       "      <td>26.629999</td>\n",
       "      <td>12</td>\n",
       "      <td>31</td>\n",
       "      <td>4</td>\n",
       "    </tr>\n",
       "    <tr>\n",
       "      <th>1930</th>\n",
       "      <td>2015-07-31 00:00:00+00:00</td>\n",
       "      <td>267.600006</td>\n",
       "      <td>266.149994</td>\n",
       "      <td>7</td>\n",
       "      <td>31</td>\n",
       "      <td>4</td>\n",
       "    </tr>\n",
       "    <tr>\n",
       "      <th>1931</th>\n",
       "      <td>2017-03-31 00:00:00+00:00</td>\n",
       "      <td>278.730011</td>\n",
       "      <td>278.299988</td>\n",
       "      <td>3</td>\n",
       "      <td>31</td>\n",
       "      <td>4</td>\n",
       "    </tr>\n",
       "  </tbody>\n",
       "</table>\n",
       "</div>"
      ],
      "text/plain": [
       "                          Date        Open       Close Month Day Weekday\n",
       "1927 2014-10-31 00:00:00+00:00  242.509995  241.699997    10  31       4\n",
       "1928 2020-01-31 00:00:00+00:00  640.000000  650.570007     1  31       4\n",
       "1929 2010-12-31 00:00:00+00:00   26.570000   26.629999    12  31       4\n",
       "1930 2015-07-31 00:00:00+00:00  267.600006  266.149994     7  31       4\n",
       "1931 2017-03-31 00:00:00+00:00  278.730011  278.299988     3  31       4"
      ]
     },
     "execution_count": 14,
     "metadata": {},
     "output_type": "execute_result"
    }
   ],
   "source": [
    "df = df.drop('Year', axis=1)\n",
    "df.tail()"
   ]
  },
  {
   "cell_type": "markdown",
   "id": "b331d87e",
   "metadata": {},
   "source": [
    "As we have seen, the Open variable is already a great estimator to the closing price. We intend to use the other variables to catch the small fluctuations that may occur. We are going to use some boxplots to see if the Month, Day and Weekday have any significance in determining  the closing price. Let us start with the weekday."
   ]
  },
  {
   "cell_type": "code",
   "execution_count": 15,
   "id": "f8562b70",
   "metadata": {},
   "outputs": [
    {
     "data": {
      "image/png": "[encoded data removed]",
      "text/plain": [
       "<Figure size 900x600 with 1 Axes>"
      ]
     },
     "metadata": {},
     "output_type": "display_data"
    }
   ],
   "source": [
    "fig, ax = plt.subplots(figsize=(6,4), dpi=150)\n",
    "sns.boxplot(data=df, x='Weekday', y='Close', ax=ax)\n",
    "ax.set_title(\"Closing Stock Price by Weekday\")\n",
    "ax.set_ylabel('Closing Price')\n",
    "plt.show()\n"
   ]
  },
  {
   "cell_type": "markdown",
   "id": "5690ee61",
   "metadata": {},
   "source": [
    "There are no meaningful differences in the closing price between the weekdays. Now let us see how the months behave."
   ]
  },
  {
   "cell_type": "code",
   "execution_count": 16,
   "id": "4aef50e7",
   "metadata": {},
   "outputs": [
    {
     "data": {
      "image/png": "[encoded data removed]",
      "text/plain": [
       "<Figure size 1200x600 with 1 Axes>"
      ]
     },
     "metadata": {},
     "output_type": "display_data"
    }
   ],
   "source": [
    "fig, ax = plt.subplots(figsize=(8,4), dpi=150)\n",
    "sns.boxplot(data=df, x='Month', y='Close', ax=ax)\n",
    "ax.set_title(\"Closing Stock Price by Month\")\n",
    "ax.set_ylabel('Closing Price')\n",
    "plt.show()\n"
   ]
  },
  {
   "cell_type": "markdown",
   "id": "69745c04",
   "metadata": {},
   "source": [
    "Now we have some notable differences. For instance, the closing price mean for july and august are greater than the mean for november and february. Now let us check the days."
   ]
  },
  {
   "cell_type": "code",
   "execution_count": 17,
   "id": "60820b8d",
   "metadata": {},
   "outputs": [
    {
     "data": {
      "image/png": "[encoded data removed]",
      "text/plain": [
       "<Figure size 1200x1800 with 3 Axes>"
      ]
     },
     "metadata": {},
     "output_type": "display_data"
    }
   ],
   "source": [
    "fig, ax = plt.subplots(3, 1, figsize=(8,12), dpi=150)\n",
    "df['Day'] = df['Day'].astype('int')\n",
    "sns.boxplot(data=df.query('Day<11'), x='Day', y='Close', ax=ax[0])\n",
    "sns.boxplot(data=df.query('Day>=11&Day<21'), x='Day', y='Close', ax=ax[1])\n",
    "sns.boxplot(data=df.query('Day>=21'), x='Day', y='Close', ax=ax[2])\n",
    "ax[0].set_title(\"Closing Stock Price by Day\")\n",
    "ax[0].set_ylabel('')\n",
    "ax[1].set_ylabel('Closing Price')\n",
    "ax[2].set_ylabel('')\n",
    "ax[0].set_xlabel('')\n",
    "ax[1].set_xlabel('')\n",
    "ax[2].set_xlabel('Day')\n",
    "plt.show()\n",
    "df['Day'] = df['Day'].astype('category')"
   ]
  },
  {
   "cell_type": "markdown",
   "id": "0efcd4b8",
   "metadata": {},
   "source": [
    "The mean for the first days seems to be slightly greater than the mean for the rest of the days. Therefore, we will be using the Open, Month and Day variables as our estimators."
   ]
  },
  {
   "cell_type": "markdown",
   "id": "6243f9b4",
   "metadata": {},
   "source": [
    "## Model Training\n",
    "\n",
    "We will be using 3 different types of regressions models:\n",
    "\n",
    "* OLS\n",
    "* Lasso\n",
    "* Ridge\n",
    "\n",
    "We will compare the models using the following metrics:\n",
    "\n",
    "* MAE\n",
    "* RMSE\n",
    "* R²\n",
    "* SI\n",
    "\n",
    "First, we have to split our data into a training and a validation subset."
   ]
  },
  {
   "cell_type": "code",
   "execution_count": 18,
   "id": "203e60c2",
   "metadata": {},
   "outputs": [
    {
     "data": {
      "text/html": [
       "<div>\n",
       "<style scoped>\n",
       "    .dataframe tbody tr th:only-of-type {\n",
       "        vertical-align: middle;\n",
       "    }\n",
       "\n",
       "    .dataframe tbody tr th {\n",
       "        vertical-align: top;\n",
       "    }\n",
       "\n",
       "    .dataframe thead th {\n",
       "        text-align: right;\n",
       "    }\n",
       "</style>\n",
       "<table border=\"1\" class=\"dataframe\">\n",
       "  <thead>\n",
       "    <tr style=\"text-align: right;\">\n",
       "      <th></th>\n",
       "      <th>Date</th>\n",
       "      <th>Open</th>\n",
       "      <th>Close</th>\n",
       "      <th>Month</th>\n",
       "      <th>Day</th>\n",
       "      <th>Weekday</th>\n",
       "    </tr>\n",
       "  </thead>\n",
       "  <tbody>\n",
       "    <tr>\n",
       "      <th>1540</th>\n",
       "      <td>2016-07-07 00:00:00+00:00</td>\n",
       "      <td>213.100006</td>\n",
       "      <td>215.940002</td>\n",
       "      <td>7</td>\n",
       "      <td>7</td>\n",
       "      <td>3</td>\n",
       "    </tr>\n",
       "    <tr>\n",
       "      <th>1541</th>\n",
       "      <td>2016-10-26 00:00:00+00:00</td>\n",
       "      <td>201.000000</td>\n",
       "      <td>202.240005</td>\n",
       "      <td>10</td>\n",
       "      <td>26</td>\n",
       "      <td>2</td>\n",
       "    </tr>\n",
       "    <tr>\n",
       "      <th>1542</th>\n",
       "      <td>2013-11-14 00:00:00+00:00</td>\n",
       "      <td>138.919998</td>\n",
       "      <td>137.600006</td>\n",
       "      <td>11</td>\n",
       "      <td>14</td>\n",
       "      <td>3</td>\n",
       "    </tr>\n",
       "    <tr>\n",
       "      <th>1543</th>\n",
       "      <td>2017-08-29 00:00:00+00:00</td>\n",
       "      <td>339.480011</td>\n",
       "      <td>347.359985</td>\n",
       "      <td>8</td>\n",
       "      <td>29</td>\n",
       "      <td>1</td>\n",
       "    </tr>\n",
       "    <tr>\n",
       "      <th>1544</th>\n",
       "      <td>2013-11-06 00:00:00+00:00</td>\n",
       "      <td>154.809998</td>\n",
       "      <td>151.160004</td>\n",
       "      <td>11</td>\n",
       "      <td>6</td>\n",
       "      <td>2</td>\n",
       "    </tr>\n",
       "  </tbody>\n",
       "</table>\n",
       "</div>"
      ],
      "text/plain": [
       "                          Date        Open       Close  Month  Day Weekday\n",
       "1540 2016-07-07 00:00:00+00:00  213.100006  215.940002      7    7       3\n",
       "1541 2016-10-26 00:00:00+00:00  201.000000  202.240005     10   26       2\n",
       "1542 2013-11-14 00:00:00+00:00  138.919998  137.600006     11   14       3\n",
       "1543 2017-08-29 00:00:00+00:00  339.480011  347.359985      8   29       1\n",
       "1544 2013-11-06 00:00:00+00:00  154.809998  151.160004     11    6       2"
      ]
     },
     "execution_count": 18,
     "metadata": {},
     "output_type": "execute_result"
    }
   ],
   "source": [
    "df['Month'] = df['Month'].astype('int')\n",
    "df['Day'] = df['Day'].astype('int')\n",
    "df_train, df_validation = train_test_split(df, test_size=0.2, shuffle=True, random_state=1234)\n",
    "df_train = df_train.reset_index(drop=True)\n",
    "df_train.tail()"
   ]
  },
  {
   "cell_type": "code",
   "execution_count": 19,
   "id": "5f5eb677",
   "metadata": {},
   "outputs": [
    {
     "data": {
      "text/html": [
       "<div>\n",
       "<style scoped>\n",
       "    .dataframe tbody tr th:only-of-type {\n",
       "        vertical-align: middle;\n",
       "    }\n",
       "\n",
       "    .dataframe tbody tr th {\n",
       "        vertical-align: top;\n",
       "    }\n",
       "\n",
       "    .dataframe thead th {\n",
       "        text-align: right;\n",
       "    }\n",
       "</style>\n",
       "<table border=\"1\" class=\"dataframe\">\n",
       "  <thead>\n",
       "    <tr style=\"text-align: right;\">\n",
       "      <th></th>\n",
       "      <th>Date</th>\n",
       "      <th>Open</th>\n",
       "      <th>Close</th>\n",
       "      <th>Month</th>\n",
       "      <th>Day</th>\n",
       "      <th>Weekday</th>\n",
       "    </tr>\n",
       "  </thead>\n",
       "  <tbody>\n",
       "    <tr>\n",
       "      <th>382</th>\n",
       "      <td>2013-05-13 00:00:00+00:00</td>\n",
       "      <td>80.989998</td>\n",
       "      <td>87.800003</td>\n",
       "      <td>5</td>\n",
       "      <td>13</td>\n",
       "      <td>0</td>\n",
       "    </tr>\n",
       "    <tr>\n",
       "      <th>383</th>\n",
       "      <td>2015-09-11 00:00:00+00:00</td>\n",
       "      <td>247.639999</td>\n",
       "      <td>250.240005</td>\n",
       "      <td>9</td>\n",
       "      <td>11</td>\n",
       "      <td>4</td>\n",
       "    </tr>\n",
       "    <tr>\n",
       "      <th>384</th>\n",
       "      <td>2010-12-02 00:00:00+00:00</td>\n",
       "      <td>34.009998</td>\n",
       "      <td>32.349998</td>\n",
       "      <td>12</td>\n",
       "      <td>2</td>\n",
       "      <td>3</td>\n",
       "    </tr>\n",
       "    <tr>\n",
       "      <th>385</th>\n",
       "      <td>2012-11-21 00:00:00+00:00</td>\n",
       "      <td>32.610001</td>\n",
       "      <td>32.470001</td>\n",
       "      <td>11</td>\n",
       "      <td>21</td>\n",
       "      <td>2</td>\n",
       "    </tr>\n",
       "    <tr>\n",
       "      <th>386</th>\n",
       "      <td>2011-10-25 00:00:00+00:00</td>\n",
       "      <td>28.230000</td>\n",
       "      <td>28.250000</td>\n",
       "      <td>10</td>\n",
       "      <td>25</td>\n",
       "      <td>1</td>\n",
       "    </tr>\n",
       "  </tbody>\n",
       "</table>\n",
       "</div>"
      ],
      "text/plain": [
       "                         Date        Open       Close  Month  Day Weekday\n",
       "382 2013-05-13 00:00:00+00:00   80.989998   87.800003      5   13       0\n",
       "383 2015-09-11 00:00:00+00:00  247.639999  250.240005      9   11       4\n",
       "384 2010-12-02 00:00:00+00:00   34.009998   32.349998     12    2       3\n",
       "385 2012-11-21 00:00:00+00:00   32.610001   32.470001     11   21       2\n",
       "386 2011-10-25 00:00:00+00:00   28.230000   28.250000     10   25       1"
      ]
     },
     "execution_count": 19,
     "metadata": {},
     "output_type": "execute_result"
    }
   ],
   "source": [
    "df_validation = df_validation.reset_index(drop=True)\n",
    "df_validation.tail()"
   ]
  },
  {
   "cell_type": "markdown",
   "id": "c65952b0",
   "metadata": {},
   "source": [
    "Now lets separate our estimators from our target and start the training."
   ]
  },
  {
   "cell_type": "code",
   "execution_count": 20,
   "id": "68a31cce",
   "metadata": {},
   "outputs": [],
   "source": [
    "X_train = df_train[['Open', 'Month', 'Day']].copy()\n",
    "y_train = df_train['Close'].copy()\n",
    "X_validation = df_validation[['Open', 'Month', 'Day']].copy()\n",
    "y_validation = df_validation['Close'].copy()"
   ]
  },
  {
   "cell_type": "markdown",
   "id": "d87d7d2e",
   "metadata": {},
   "source": [
    "Now we have to establish a baseline model, which our models will have to outperform. In this case, we want our models to be better than guessing the opening price as the closing price.\n",
    "\n",
    "### Baseline"
   ]
  },
  {
   "cell_type": "code",
   "execution_count": 21,
   "id": "0e16fda0",
   "metadata": {},
   "outputs": [
    {
     "name": "stdout",
     "output_type": "stream",
     "text": [
      "MAE:  3.050439214470285\n",
      "RMSE:  4.926959145911481\n",
      "SI:  0.026321130011178563\n",
      "R²:  0.9982569140052968\n"
     ]
    }
   ],
   "source": [
    "base_mae = mean_absolute_error(y_validation, X_validation['Open'])\n",
    "base_rmse = mean_squared_error(y_validation, X_validation['Open'], squared=False)\n",
    "base_si = base_rmse/y_validation.mean()\n",
    "base_r2 = r2_score(y_validation, X_validation['Open'])\n",
    "\n",
    "print(\"MAE: \", base_mae)\n",
    "print(\"RMSE: \", base_rmse)\n",
    "print(\"SI: \", base_si)\n",
    "print(\"R²: \", base_r2)"
   ]
  },
  {
   "cell_type": "markdown",
   "id": "653fa51d",
   "metadata": {},
   "source": [
    "The baseline model is already very good and it will be too hard to beat it. "
   ]
  },
  {
   "cell_type": "markdown",
   "id": "7b5d118d",
   "metadata": {},
   "source": [
    "### OLS"
   ]
  },
  {
   "cell_type": "code",
   "execution_count": 22,
   "id": "8fbd67e0",
   "metadata": {},
   "outputs": [
    {
     "name": "stdout",
     "output_type": "stream",
     "text": [
      "MAE:  3.0558844852313105\n",
      "RMSE:  4.924166925817812\n",
      "SI:  0.026306213226620634\n",
      "R²:  0.9982588891386205\n"
     ]
    }
   ],
   "source": [
    "reg = linear_model.LinearRegression()\n",
    "reg = reg.fit(X_train, y_train)\n",
    "pred = reg.predict(X_validation)\n",
    "ols_mae = mean_absolute_error(y_validation, pred)\n",
    "ols_rmse = mean_squared_error(y_validation, pred, squared=False)\n",
    "ols_si = ols_rmse/y_validation.mean()\n",
    "ols_r2 = r2_score(y_validation, pred)\n",
    "print(\"MAE: \", ols_mae)\n",
    "print(\"RMSE: \", ols_rmse)\n",
    "print(\"SI: \", ols_si)\n",
    "print(\"R²: \", ols_r2)"
   ]
  },
  {
   "cell_type": "markdown",
   "id": "9da13892",
   "metadata": {},
   "source": [
    "Our R² is very close to 1, which is expected, since the closing price was already very close to the opening price. Our SI is below 10%, which is very good, but again, it is expected. Comparing to our baseline model, the OLS model has a slightly worse MAE and a slightly better RMSE, SI e R², but the numbers are basically the same.\n",
    "\n",
    "### Ridge\n",
    "\n",
    "For the ridge regression, we first have to find the best $\\lambda$ value. In order to do that, we will be using a k-fold with k=5 with 10 different $\\lambda$ values. Since we don't want to lose too much influence of the estimators, we will only be testing small $\\lambda$. The interval will be set from 0.1 to 2. "
   ]
  },
  {
   "cell_type": "code",
   "execution_count": 23,
   "id": "bf224909",
   "metadata": {},
   "outputs": [
    {
     "data": {
      "text/plain": [
       "KFold(n_splits=5, random_state=42, shuffle=True)"
      ]
     },
     "execution_count": 23,
     "metadata": {},
     "output_type": "execute_result"
    }
   ],
   "source": [
    "kf = KFold(n_splits=5, random_state=42, shuffle=True)\n",
    "kf.get_n_splits(X_train, y_train)\n",
    "kf"
   ]
  },
  {
   "cell_type": "code",
   "execution_count": 24,
   "id": "ef329774",
   "metadata": {},
   "outputs": [
    {
     "name": "stdout",
     "output_type": "stream",
     "text": [
      "Best lambda:  2.0\n"
     ]
    }
   ],
   "source": [
    "rmse = np.inf\n",
    "l_final=0\n",
    "for l in np.arange(0.2, 2.2, 0.2):\n",
    "    reg = linear_model.Ridge(alpha=l, random_state=42)\n",
    "    rmse_aux=0\n",
    "    for train_index, test_index in kf.split(X_train, y_train):\n",
    "        reg = reg.fit(X_train.loc[train_index], y_train.loc[train_index])\n",
    "        pred = reg.predict(X_train.loc[test_index])\n",
    "        rmse_aux += mean_squared_error(y_train.loc[test_index], pred, squared=False)\n",
    "    rmse_aux = rmse_aux/5\n",
    "    if rmse_aux < rmse:\n",
    "        rmse = rmse_aux\n",
    "        l_final = l\n",
    "print(\"Best lambda: \", l_final)\n"
   ]
  },
  {
   "cell_type": "markdown",
   "id": "bf1b3e67",
   "metadata": {},
   "source": [
    "We have found $\\lambda=2$. Now let us train our model with this parameter and evaluate it in the validation data."
   ]
  },
  {
   "cell_type": "code",
   "execution_count": 25,
   "id": "d312ccf5",
   "metadata": {},
   "outputs": [
    {
     "name": "stdout",
     "output_type": "stream",
     "text": [
      "MAE:  3.0558823289440036\n",
      "RMSE:  4.924166933835288\n",
      "SI:  0.026306213226620634\n",
      "R²:  0.9982588891329508\n"
     ]
    }
   ],
   "source": [
    "reg = linear_model.Ridge(alpha=2, random_state=42)\n",
    "reg = reg.fit(X_train, y_train)\n",
    "pred = reg.predict(X_validation)\n",
    "ridge_mae = mean_absolute_error(y_validation, pred)\n",
    "ridge_rmse = mean_squared_error(y_validation, pred, squared=False)\n",
    "ridge_si = ols_rmse/y_validation.mean()\n",
    "ridge_r2 = r2_score(y_validation, pred)\n",
    "print(\"MAE: \", ridge_mae)\n",
    "print(\"RMSE: \", ridge_rmse)\n",
    "print(\"SI: \", ridge_si)\n",
    "print(\"R²: \", ridge_r2)"
   ]
  },
  {
   "cell_type": "markdown",
   "id": "d6e4f395",
   "metadata": {},
   "source": [
    "The results were basically the same.\n",
    "\n",
    "### Lasso\n",
    "\n",
    "For the Lasso model we also have to estimate a $\\lambda$. We will be using the same approach adopted for the Ridge model"
   ]
  },
  {
   "cell_type": "code",
   "execution_count": 26,
   "id": "4a58ea38",
   "metadata": {},
   "outputs": [
    {
     "name": "stdout",
     "output_type": "stream",
     "text": [
      "Best lambda:  1.4000000000000001\n"
     ]
    }
   ],
   "source": [
    "rmse = np.inf\n",
    "l_final=0\n",
    "for l in np.arange(0.2, 2.2, 0.2):\n",
    "    reg = linear_model.Lasso(alpha=l, random_state=42)\n",
    "    rmse_aux=0\n",
    "    for train_index, test_index in kf.split(X_train, y_train):\n",
    "        reg = reg.fit(X_train.loc[train_index], y_train.loc[train_index])\n",
    "        pred = reg.predict(X_train.loc[test_index])\n",
    "        rmse_aux += mean_squared_error(y_train.loc[test_index], pred, squared=False)\n",
    "    rmse_aux = rmse_aux/5\n",
    "    if rmse_aux < rmse:\n",
    "        rmse = rmse_aux\n",
    "        l_final = l\n",
    "print(\"Best lambda: \", l_final)\n"
   ]
  },
  {
   "cell_type": "markdown",
   "id": "c7082d55",
   "metadata": {},
   "source": [
    "We have found $\\lambda=1.4$. Now let us train our model with this parameter and evaluate it in the validation data."
   ]
  },
  {
   "cell_type": "code",
   "execution_count": 27,
   "id": "6f1506ff",
   "metadata": {},
   "outputs": [
    {
     "name": "stdout",
     "output_type": "stream",
     "text": [
      "MAE:  3.0441752403129945\n",
      "RMSE:  4.927222525681794\n",
      "SI:  0.026306213226620634\n",
      "R²:  0.9982567276405041\n"
     ]
    }
   ],
   "source": [
    "reg = linear_model.Lasso(alpha=1.4, random_state=42)\n",
    "reg = reg.fit(X_train, y_train)\n",
    "pred = reg.predict(X_validation)\n",
    "lasso_mae = mean_absolute_error(y_validation, pred)\n",
    "lasso_rmse = mean_squared_error(y_validation, pred, squared=False)\n",
    "lasso_si = ols_rmse/y_validation.mean()\n",
    "lasso_r2 = r2_score(y_validation, pred)\n",
    "print(\"MAE: \", lasso_mae)\n",
    "print(\"RMSE: \", lasso_rmse)\n",
    "print(\"SI: \", lasso_si)\n",
    "print(\"R²: \", lasso_r2)"
   ]
  },
  {
   "cell_type": "markdown",
   "id": "98f8424d",
   "metadata": {},
   "source": [
    "So far, the Lasso model was the better one. We have a slightly better MAE, but the results are basically the same. Therefore, we will use all three models. Let us train them with the whole data and save them.\n",
    "\n",
    "### Final Model"
   ]
  },
  {
   "cell_type": "code",
   "execution_count": 28,
   "id": "65599e51",
   "metadata": {},
   "outputs": [
    {
     "data": {
      "text/plain": [
       "['models/lasso.joblib']"
      ]
     },
     "execution_count": 28,
     "metadata": {},
     "output_type": "execute_result"
    }
   ],
   "source": [
    "X = df[['Open', 'Month', 'Day']].copy()\n",
    "y = df['Close'].copy()\n",
    "\n",
    "reg_ols = linear_model.LinearRegression().fit(X, y)\n",
    "dump(reg_ols, \"models/ols.joblib\")\n",
    "\n",
    "reg_ridge = linear_model.Ridge(alpha=2).fit(X, y)\n",
    "dump(reg_ridge, \"models/ridge.joblib\")\n",
    "\n",
    "reg_lasso = linear_model.Lasso(alpha=1.4).fit(X, y)\n",
    "dump(reg_lasso, \"models/lasso.joblib\")\n"
   ]
  },
  {
   "cell_type": "markdown",
   "id": "7a2470db",
   "metadata": {},
   "source": [
    "## Model Evaluation\n",
    "\n",
    "To test our model, we first need to load the test dataset and our final model."
   ]
  },
  {
   "cell_type": "code",
   "execution_count": 29,
   "id": "18640e32",
   "metadata": {},
   "outputs": [],
   "source": [
    "reg_ols = load(\"models/ols.joblib\")\n",
    "reg_ridge = load(\"models/ridge.joblib\")\n",
    "reg_lasso = load(\"models/lasso.joblib\")"
   ]
  },
  {
   "cell_type": "code",
   "execution_count": 30,
   "id": "98ecf60e",
   "metadata": {},
   "outputs": [
    {
     "data": {
      "text/html": [
       "<div>\n",
       "<style scoped>\n",
       "    .dataframe tbody tr th:only-of-type {\n",
       "        vertical-align: middle;\n",
       "    }\n",
       "\n",
       "    .dataframe tbody tr th {\n",
       "        vertical-align: top;\n",
       "    }\n",
       "\n",
       "    .dataframe thead th {\n",
       "        text-align: right;\n",
       "    }\n",
       "</style>\n",
       "<table border=\"1\" class=\"dataframe\">\n",
       "  <thead>\n",
       "    <tr style=\"text-align: right;\">\n",
       "      <th></th>\n",
       "      <th>Date</th>\n",
       "      <th>Open</th>\n",
       "      <th>Close</th>\n",
       "      <th>Year</th>\n",
       "      <th>Month</th>\n",
       "      <th>Day</th>\n",
       "      <th>Weekday</th>\n",
       "      <th>Data</th>\n",
       "    </tr>\n",
       "  </thead>\n",
       "  <tbody>\n",
       "    <tr>\n",
       "      <th>479</th>\n",
       "      <td>2015-01-30 00:00:00+00:00</td>\n",
       "      <td>203.960007</td>\n",
       "      <td>203.600006</td>\n",
       "      <td>2015</td>\n",
       "      <td>1</td>\n",
       "      <td>30</td>\n",
       "      <td>4</td>\n",
       "      <td>test</td>\n",
       "    </tr>\n",
       "    <tr>\n",
       "      <th>480</th>\n",
       "      <td>2012-11-30 00:00:00+00:00</td>\n",
       "      <td>33.630001</td>\n",
       "      <td>33.820000</td>\n",
       "      <td>2012</td>\n",
       "      <td>11</td>\n",
       "      <td>30</td>\n",
       "      <td>4</td>\n",
       "      <td>test</td>\n",
       "    </tr>\n",
       "    <tr>\n",
       "      <th>481</th>\n",
       "      <td>2018-08-31 00:00:00+00:00</td>\n",
       "      <td>302.000000</td>\n",
       "      <td>301.660004</td>\n",
       "      <td>2018</td>\n",
       "      <td>8</td>\n",
       "      <td>31</td>\n",
       "      <td>4</td>\n",
       "      <td>test</td>\n",
       "    </tr>\n",
       "    <tr>\n",
       "      <th>482</th>\n",
       "      <td>2014-01-31 00:00:00+00:00</td>\n",
       "      <td>178.850006</td>\n",
       "      <td>181.410004</td>\n",
       "      <td>2014</td>\n",
       "      <td>1</td>\n",
       "      <td>31</td>\n",
       "      <td>4</td>\n",
       "      <td>test</td>\n",
       "    </tr>\n",
       "    <tr>\n",
       "      <th>483</th>\n",
       "      <td>2019-05-31 00:00:00+00:00</td>\n",
       "      <td>185.100006</td>\n",
       "      <td>185.160004</td>\n",
       "      <td>2019</td>\n",
       "      <td>5</td>\n",
       "      <td>31</td>\n",
       "      <td>4</td>\n",
       "      <td>test</td>\n",
       "    </tr>\n",
       "  </tbody>\n",
       "</table>\n",
       "</div>"
      ],
      "text/plain": [
       "                         Date        Open       Close  Year  Month  Day  \\\n",
       "479 2015-01-30 00:00:00+00:00  203.960007  203.600006  2015      1   30   \n",
       "480 2012-11-30 00:00:00+00:00   33.630001   33.820000  2012     11   30   \n",
       "481 2018-08-31 00:00:00+00:00  302.000000  301.660004  2018      8   31   \n",
       "482 2014-01-31 00:00:00+00:00  178.850006  181.410004  2014      1   31   \n",
       "483 2019-05-31 00:00:00+00:00  185.100006  185.160004  2019      5   31   \n",
       "\n",
       "     Weekday  Data  \n",
       "479        4  test  \n",
       "480        4  test  \n",
       "481        4  test  \n",
       "482        4  test  \n",
       "483        4  test  "
      ]
     },
     "execution_count": 30,
     "metadata": {},
     "output_type": "execute_result"
    }
   ],
   "source": [
    "df_test = pd.read_gbq(\"\"\"select * from datascience.tesla_stock_tidy\n",
    "                            where Data='test'\"\"\")\n",
    "df_test.tail()"
   ]
  },
  {
   "cell_type": "markdown",
   "id": "0513982c",
   "metadata": {},
   "source": [
    "Now let us see the performance of the baseline versus the selected models.\n",
    "\n",
    "### Baseline"
   ]
  },
  {
   "cell_type": "code",
   "execution_count": 31,
   "id": "2564b780",
   "metadata": {},
   "outputs": [
    {
     "name": "stdout",
     "output_type": "stream",
     "text": [
      "MAE:  3.466384661157024\n",
      "RMSE:  6.945857103556663\n",
      "SI:  0.03686813239756074\n",
      "R²:  0.996725865610978\n"
     ]
    }
   ],
   "source": [
    "X = df_test[['Open', 'Month', 'Day']]\n",
    "y = df_test['Close']\n",
    "\n",
    "base_mae = mean_absolute_error(y, X['Open'])\n",
    "base_rmse = mean_squared_error(y, X['Open'], squared=False)\n",
    "base_si = base_rmse/y.mean()\n",
    "base_r2 = r2_score(y, X['Open'])\n",
    "\n",
    "print(\"MAE: \", base_mae)\n",
    "print(\"RMSE: \", base_rmse)\n",
    "print(\"SI: \", base_si)\n",
    "print(\"R²: \", base_r2)"
   ]
  },
  {
   "cell_type": "markdown",
   "id": "de7f6c6f",
   "metadata": {},
   "source": [
    "### OLS"
   ]
  },
  {
   "cell_type": "code",
   "execution_count": 34,
   "id": "aae6edfb",
   "metadata": {},
   "outputs": [
    {
     "name": "stdout",
     "output_type": "stream",
     "text": [
      "MAE:  3.481329240762456\n",
      "RMSE:  6.924128303648323\n",
      "SI:  0.036752797420189755\n",
      "R²:  0.9967463185892722\n"
     ]
    }
   ],
   "source": [
    "pred = reg_ols.predict(X)\n",
    "\n",
    "ols_mae = mean_absolute_error(y, pred)\n",
    "ols_rmse = mean_squared_error(y, pred, squared=False)\n",
    "ols_si = ols_rmse/y.mean()\n",
    "ols_r2 = r2_score(y, pred)\n",
    "\n",
    "print(\"MAE: \", ols_mae)\n",
    "print(\"RMSE: \", ols_rmse)\n",
    "print(\"SI: \", ols_si)\n",
    "print(\"R²: \", ols_r2)"
   ]
  },
  {
   "cell_type": "markdown",
   "id": "900f50dc",
   "metadata": {},
   "source": [
    "### Ridge"
   ]
  },
  {
   "cell_type": "code",
   "execution_count": 35,
   "id": "5b66b1d6",
   "metadata": {},
   "outputs": [
    {
     "name": "stdout",
     "output_type": "stream",
     "text": [
      "MAE:  3.481326896630573\n",
      "RMSE:  6.924129655964464\n",
      "SI:  0.03675280459819094\n",
      "R²:  0.9967463173183523\n"
     ]
    }
   ],
   "source": [
    "pred = reg_ridge.predict(X)\n",
    "\n",
    "ridge_mae = mean_absolute_error(y, pred)\n",
    "ridge_rmse = mean_squared_error(y, pred, squared=False)\n",
    "ridge_si = ridge_rmse/y.mean()\n",
    "ridge_r2 = r2_score(y, pred)\n",
    "\n",
    "print(\"MAE: \", ridge_mae)\n",
    "print(\"RMSE: \", ridge_rmse)\n",
    "print(\"SI: \", ridge_si)\n",
    "print(\"R²: \", ridge_r2)"
   ]
  },
  {
   "cell_type": "markdown",
   "id": "e848f97c",
   "metadata": {},
   "source": [
    "### Lasso"
   ]
  },
  {
   "cell_type": "code",
   "execution_count": 36,
   "id": "f9653c68",
   "metadata": {},
   "outputs": [
    {
     "name": "stdout",
     "output_type": "stream",
     "text": [
      "MAE:  3.467456470332174\n",
      "RMSE:  6.931771734282126\n",
      "SI:  0.03679336822496982\n",
      "R²:  0.9967391312543546\n"
     ]
    }
   ],
   "source": [
    "pred = reg_lasso.predict(X)\n",
    "\n",
    "lasso_mae = mean_absolute_error(y, pred)\n",
    "lasso_rmse = mean_squared_error(y, pred, squared=False)\n",
    "lasso_si = lasso_rmse/y.mean()\n",
    "lasso_r2 = r2_score(y, pred)\n",
    "\n",
    "print(\"MAE: \", lasso_mae)\n",
    "print(\"RMSE: \", lasso_rmse)\n",
    "print(\"SI: \", lasso_si)\n",
    "print(\"R²: \", lasso_r2)"
   ]
  },
  {
   "cell_type": "markdown",
   "id": "dd5da0f5",
   "metadata": {},
   "source": [
    "## Conclusion\n",
    "\n",
    "The Lasso model had the lowest MAE, whereas the OLS model had the lowest RMSE and SI. None of the models could outperform the baseline R². However, since the differences were very low, the results were basically the same. Therefore, we conclude that the temporal data is not significant to predict fluctuations in the stock prices."
   ]
  }
 ],
 "metadata": {
  "kernelspec": {
   "display_name": "Python 3 (ipykernel)",
   "language": "python",
   "name": "python3"
  },
  "language_info": {
   "codemirror_mode": {
    "name": "ipython",
    "version": 3
   },
   "file_extension": ".py",
   "mimetype": "text/x-python",
   "name": "python",
   "nbconvert_exporter": "python",
   "pygments_lexer": "ipython3",
   "version": "3.11.5"
  }
 },
 "nbformat": 4,
 "nbformat_minor": 5
}
